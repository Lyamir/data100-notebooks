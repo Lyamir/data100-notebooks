{
 "cells": [
  {
   "cell_type": "markdown",
   "metadata": {},
   "source": [
    "Name: your name here (last name, first name)\n",
    "\n",
    "*Contribution statement*: I worked on this alone or I worked on this with A, B and C. I did task x while B worked on task y..."
   ]
  },
  {
   "cell_type": "markdown",
   "metadata": {},
   "source": [
    "# Homework #1: Python Basics, `numpy` and `pandas`\n",
    "\n",
    "This homework will test your understanding of the Python basics with `numpy` and `pandas`.\n",
    "\n",
    "Read through the whole notebook first to get an idea of what to expect and then go through each task. \n",
    "\n",
    "---\n",
    "You are allowed to work in groups (maximum of 4) to assist each other in coding problems and discussing how to handle different kinds of data. _However, you will still be submitting your notebooks **individually** and write ups (captions, answers to non-coding questions) should also be done individually._ Each notebook must have a `markdown cell` at the beginning enumerating the contributions of each member to the homework. If you worked alone, please simply state you worked alone. \n",
    "\n",
    "Missing markdown cell with contributions or any inconsistencies between statements within the group that cannot be easily reconciled by asking will **get a 5% deduction for conflicting members**.\n",
    "\n",
    "---\n",
    "\n",
    "### Instructions\n",
    "Read through the whole notebook first to get an idea of what is expected. Place your code after the commmented code blocks.\n",
    "\n",
    "```python\n",
    "# your code here\n",
    "```\n",
    "\n",
    "Make sure to remove or comment the line below to be able to proceed. It's only placed there as a reminder that the function has not yet been implemented.\n",
    "\n",
    "```python\n",
    "raise NotImplementedError\n",
    "```\n",
    "\n",
    "After answering every question, restart your kernel and re-run ALL the cell from top to bottom to ensure that there are no errors. \n",
    "\n",
    "#### Note on \"test scripts\"\n",
    "\n",
    "The code block following the function definition are \"unit tests\" which are code blocks which test if the function you implemented is correct or not. It will not print an output **if the conditions are met** (meaning the answer is correct). These help you check if your function works\n",
    "\n",
    "**PLEASE DO NOT EDIT THESE CELLS!**\n",
    "\n",
    "\n",
    "### Grading\n",
    "Each task will have corresponding points. Full points will be given if the task was successfully completed.\n",
    "\n",
    "The notebooks turned in should be _runnable_. I should be able to re-run your submitted notebooks from top to bottom without any errors. In case an error is encountered (that has nothing to do with FileNotFound), **there will be 5% deduction from the final score**.\n",
    "\n",
    "#### Total raw points: 20 points\n",
    "---"
   ]
  },
  {
   "cell_type": "code",
   "execution_count": null,
   "metadata": {},
   "outputs": [],
   "source": [
    "# import numpy and pandas here"
   ]
  },
  {
   "cell_type": "markdown",
   "metadata": {},
   "source": [
    "### Task 1 (3 pts)\n",
    "\n",
    "Complete the function to generate a list of consecutive numbers starting from `0` to `n-1`. \n",
    "\n",
    "`n` is an integer that needs to be passed."
   ]
  },
  {
   "cell_type": "code",
   "execution_count": null,
   "metadata": {},
   "outputs": [],
   "source": [
    "def task_1(n):\n",
    "    # your code here\n",
    "    raise NotImplementedError"
   ]
  },
  {
   "cell_type": "code",
   "execution_count": null,
   "metadata": {
    "deletable": false,
    "editable": false
   },
   "outputs": [],
   "source": [
    "# These are test scripts\n",
    "ans = task_1(5)\n",
    "assert ans==[0, 1, 2, 3, 4]  # passing 5 willl result in a list with elements [0, 1, 2, 3, 4]\n",
    "\n",
    "ans = task_1(25)\n",
    "assert ans==[0, 1, 2, 3, 4, 5, 6, 7, 8, 9, 10, 11, 12, 13, 14, 15, 16, 17, 18, 19, 20, 21, 22, 23, 24]"
   ]
  },
  {
   "cell_type": "markdown",
   "metadata": {},
   "source": [
    "### Task 2 (4 pts)\n",
    "\n",
    "Write the function to return the number of days in a month. `month` starts with 1 for January and ends with 12 for December."
   ]
  },
  {
   "cell_type": "code",
   "execution_count": null,
   "metadata": {},
   "outputs": [],
   "source": [
    "def task_2(month):\n",
    "    # your code here\n",
    "    raise NotImplementedError"
   ]
  },
  {
   "cell_type": "code",
   "execution_count": null,
   "metadata": {
    "deletable": false,
    "editable": false
   },
   "outputs": [],
   "source": [
    "# These are test scripts\n",
    "days = task_2(5) # May\n",
    "assert days==31\n",
    "\n",
    "days = task_2(2) # Feb\n",
    "assert days==28\n",
    "\n",
    "days = task_2(9) # Sep\n",
    "assert days==30"
   ]
  },
  {
   "cell_type": "markdown",
   "metadata": {},
   "source": [
    "### Task 3 (3 pts)\n",
    "Complete the function below. It accepts a list `nums` and an integer `n`.\n",
    "\n",
    "The function should add `n` to every element in the list `nums` and return a **list** with the values."
   ]
  },
  {
   "cell_type": "code",
   "execution_count": null,
   "metadata": {},
   "outputs": [],
   "source": [
    "def task_3(nums, n):\n",
    "    # your code here\n",
    "    raise NotImplementedError"
   ]
  },
  {
   "cell_type": "code",
   "execution_count": null,
   "metadata": {
    "deletable": false,
    "editable": false
   },
   "outputs": [],
   "source": [
    "ans = task_3([0, 1, 2, 3, 4], 20)\n",
    "assert ans==[20, 21, 22, 23, 24]\n",
    "\n",
    "ans = task_3([0, 1, 2], 60)\n",
    "assert ans==[60, 61, 62]"
   ]
  },
  {
   "cell_type": "markdown",
   "metadata": {},
   "source": [
    "### Task 4 (5 pts)\n",
    "Create a function that reads the Titanic dataset (`data/train.csv`) and returns the ages (in list form) of first 5 _(based on index)_ **female** passengers who **survived**."
   ]
  },
  {
   "cell_type": "code",
   "execution_count": null,
   "metadata": {},
   "outputs": [],
   "source": [
    "def task_5():\n",
    "    # your code here.\n",
    "    raise NotImplementedError"
   ]
  },
  {
   "cell_type": "code",
   "execution_count": null,
   "metadata": {
    "deletable": false,
    "editable": false
   },
   "outputs": [],
   "source": [
    "assert task_5()==[38, 26, 35, 27, 14]"
   ]
  },
  {
   "cell_type": "markdown",
   "metadata": {},
   "source": [
    "### Task 5 (5 pts)\n",
    "Create a function that reads the Titanic dataset (`data/train.csv`) and returns the **average fare** of all **female** passengers who **survived** that were **older than 30 years**. Format the result by rounding up to 2 decimal values. Make sure the data type is float."
   ]
  },
  {
   "cell_type": "code",
   "execution_count": null,
   "metadata": {},
   "outputs": [],
   "source": [
    "def task_6():\n",
    "    # your code here.\n",
    "    raise NotImplementedError"
   ]
  },
  {
   "cell_type": "code",
   "execution_count": null,
   "metadata": {
    "deletable": false,
    "editable": false
   },
   "outputs": [],
   "source": [
    "assert task_6()==71.16"
   ]
  }
 ],
 "metadata": {
  "kernelspec": {
   "display_name": "Python 3",
   "language": "python",
   "name": "python3"
  },
  "language_info": {
   "codemirror_mode": {
    "name": "ipython",
    "version": 3
   },
   "file_extension": ".py",
   "mimetype": "text/x-python",
   "name": "python",
   "nbconvert_exporter": "python",
   "pygments_lexer": "ipython3",
   "version": "3.7.3"
  }
 },
 "nbformat": 4,
 "nbformat_minor": 2
}
